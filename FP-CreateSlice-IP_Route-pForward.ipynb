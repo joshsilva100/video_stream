{
 "cells": [
  {
   "cell_type": "markdown",
   "id": "5f373d6e-223a-479a-971c-c39c02aa1390",
   "metadata": {},
   "source": [
    "# Create Slice for Fabric\n",
    "This is the slice creation for the ```ECE 4400/6400 final project```. This creates a FABRIC slice.\n",
    " "
   ]
  },
  {
   "cell_type": "markdown",
   "id": "3f3b268c-04c5-43e6-8c07-a63522641dbe",
   "metadata": {
    "tags": []
   },
   "source": [
    "## 1. Set up the Experiment\n",
    "\n",
    "In this section, you will use the Fablib manager to create a new slice that is composed of 3 nodes for the Exploring Queues Assignment.\n",
    "### 1.1 Reserve Resources\n",
    "In the 'EDUKY' site, we will reserve a set of 3 nodes arranged in a star topology, with one node designated as a server. Each node will have the following specifications: 1 CPU core, 2GB of RAM, and 10GB of storage capacity. The server node will have 3 network cards (NICs), while each client node will have 1 NIC. All nodes will be preloaded with an 'Ubuntu' Linux OS. The server node will be responsible for passing traffic from the server to the client nodes."
   ]
  },
  {
   "cell_type": "code",
   "execution_count": 1,
   "id": "3e84a125-c5f8-4b38-ada2-b585ee5a83ab",
   "metadata": {},
   "outputs": [
    {
     "data": {
      "text/html": [
       "<style type=\"text/css\">\n",
       "#T_0f87b tr:nth-child(even) {\n",
       "  background: #dbf3ff;\n",
       "  color: #231f20;\n",
       "}\n",
       "#T_0f87b tr:nth-child(odd) {\n",
       "  background: #ffffff;\n",
       "  color: #231f20;\n",
       "}\n",
       "#T_0f87b caption {\n",
       "  text-align: center;\n",
       "  font-size: 150%;\n",
       "}\n",
       "#T_0f87b_row0_col0, #T_0f87b_row0_col1, #T_0f87b_row1_col0, #T_0f87b_row1_col1, #T_0f87b_row2_col0, #T_0f87b_row2_col1, #T_0f87b_row3_col0, #T_0f87b_row3_col1, #T_0f87b_row4_col0, #T_0f87b_row4_col1, #T_0f87b_row5_col0, #T_0f87b_row5_col1, #T_0f87b_row6_col0, #T_0f87b_row6_col1, #T_0f87b_row7_col0, #T_0f87b_row7_col1, #T_0f87b_row8_col0, #T_0f87b_row8_col1, #T_0f87b_row9_col0, #T_0f87b_row9_col1, #T_0f87b_row10_col0, #T_0f87b_row10_col1, #T_0f87b_row11_col0, #T_0f87b_row11_col1, #T_0f87b_row12_col0, #T_0f87b_row12_col1, #T_0f87b_row13_col0, #T_0f87b_row13_col1, #T_0f87b_row14_col0, #T_0f87b_row14_col1, #T_0f87b_row15_col0, #T_0f87b_row15_col1, #T_0f87b_row16_col0, #T_0f87b_row16_col1, #T_0f87b_row17_col0, #T_0f87b_row17_col1, #T_0f87b_row18_col0, #T_0f87b_row18_col1 {\n",
       "  text-align: left;\n",
       "  border: 1px #231f20 solid !important;\n",
       "  overwrite: False;\n",
       "}\n",
       "</style>\n",
       "<table id=\"T_0f87b\">\n",
       "  <caption>FABlib Config</caption>\n",
       "  <thead>\n",
       "  </thead>\n",
       "  <tbody>\n",
       "    <tr>\n",
       "      <td id=\"T_0f87b_row0_col0\" class=\"data row0 col0\" >Orchestrator</td>\n",
       "      <td id=\"T_0f87b_row0_col1\" class=\"data row0 col1\" >orchestrator.fabric-testbed.net</td>\n",
       "    </tr>\n",
       "    <tr>\n",
       "      <td id=\"T_0f87b_row1_col0\" class=\"data row1 col0\" >Credential Manager</td>\n",
       "      <td id=\"T_0f87b_row1_col1\" class=\"data row1 col1\" >cm.fabric-testbed.net</td>\n",
       "    </tr>\n",
       "    <tr>\n",
       "      <td id=\"T_0f87b_row2_col0\" class=\"data row2 col0\" >Core API</td>\n",
       "      <td id=\"T_0f87b_row2_col1\" class=\"data row2 col1\" >uis.fabric-testbed.net</td>\n",
       "    </tr>\n",
       "    <tr>\n",
       "      <td id=\"T_0f87b_row3_col0\" class=\"data row3 col0\" >Artifact Manager</td>\n",
       "      <td id=\"T_0f87b_row3_col1\" class=\"data row3 col1\" >artifacts.fabric-testbed.net</td>\n",
       "    </tr>\n",
       "    <tr>\n",
       "      <td id=\"T_0f87b_row4_col0\" class=\"data row4 col0\" >Token File</td>\n",
       "      <td id=\"T_0f87b_row4_col1\" class=\"data row4 col1\" >/home/fabric/.tokens.json</td>\n",
       "    </tr>\n",
       "    <tr>\n",
       "      <td id=\"T_0f87b_row5_col0\" class=\"data row5 col0\" >Project ID</td>\n",
       "      <td id=\"T_0f87b_row5_col1\" class=\"data row5 col1\" >0508639f-d515-44c8-b922-cf4cf000b6d9</td>\n",
       "    </tr>\n",
       "    <tr>\n",
       "      <td id=\"T_0f87b_row6_col0\" class=\"data row6 col0\" >Bastion Host</td>\n",
       "      <td id=\"T_0f87b_row6_col1\" class=\"data row6 col1\" >bastion.fabric-testbed.net</td>\n",
       "    </tr>\n",
       "    <tr>\n",
       "      <td id=\"T_0f87b_row7_col0\" class=\"data row7 col0\" >Bastion Username</td>\n",
       "      <td id=\"T_0f87b_row7_col1\" class=\"data row7 col1\" >jysilva_0000293756</td>\n",
       "    </tr>\n",
       "    <tr>\n",
       "      <td id=\"T_0f87b_row8_col0\" class=\"data row8 col0\" >Bastion Private Key File</td>\n",
       "      <td id=\"T_0f87b_row8_col1\" class=\"data row8 col1\" >/home/fabric/work/fabric_config/fabric_bastion_key</td>\n",
       "    </tr>\n",
       "    <tr>\n",
       "      <td id=\"T_0f87b_row9_col0\" class=\"data row9 col0\" >Slice Public Key File</td>\n",
       "      <td id=\"T_0f87b_row9_col1\" class=\"data row9 col1\" >/home/fabric/work/fabric_config/slice_key.pub</td>\n",
       "    </tr>\n",
       "    <tr>\n",
       "      <td id=\"T_0f87b_row10_col0\" class=\"data row10 col0\" >Slice Private Key File</td>\n",
       "      <td id=\"T_0f87b_row10_col1\" class=\"data row10 col1\" >/home/fabric/work/fabric_config/slice_key</td>\n",
       "    </tr>\n",
       "    <tr>\n",
       "      <td id=\"T_0f87b_row11_col0\" class=\"data row11 col0\" >Sites to avoid</td>\n",
       "      <td id=\"T_0f87b_row11_col1\" class=\"data row11 col1\" ></td>\n",
       "    </tr>\n",
       "    <tr>\n",
       "      <td id=\"T_0f87b_row12_col0\" class=\"data row12 col0\" >SSH Command Line</td>\n",
       "      <td id=\"T_0f87b_row12_col1\" class=\"data row12 col1\" >ssh -i {{ _self_.private_ssh_key_file }} -F /home/fabric/work/fabric_config/ssh_config {{ _self_.username }}@{{ _self_.management_ip }}</td>\n",
       "    </tr>\n",
       "    <tr>\n",
       "      <td id=\"T_0f87b_row13_col0\" class=\"data row13 col0\" >Log Level</td>\n",
       "      <td id=\"T_0f87b_row13_col1\" class=\"data row13 col1\" >INFO</td>\n",
       "    </tr>\n",
       "    <tr>\n",
       "      <td id=\"T_0f87b_row14_col0\" class=\"data row14 col0\" >Log File</td>\n",
       "      <td id=\"T_0f87b_row14_col1\" class=\"data row14 col1\" >/tmp/fablib/fablib.log</td>\n",
       "    </tr>\n",
       "    <tr>\n",
       "      <td id=\"T_0f87b_row15_col0\" class=\"data row15 col0\" >Bastion SSH Config File</td>\n",
       "      <td id=\"T_0f87b_row15_col1\" class=\"data row15 col1\" >/home/fabric/work/fabric_config/ssh_config</td>\n",
       "    </tr>\n",
       "    <tr>\n",
       "      <td id=\"T_0f87b_row16_col0\" class=\"data row16 col0\" >Version</td>\n",
       "      <td id=\"T_0f87b_row16_col1\" class=\"data row16 col1\" >1.8.1</td>\n",
       "    </tr>\n",
       "    <tr>\n",
       "      <td id=\"T_0f87b_row17_col0\" class=\"data row17 col0\" >Data directory</td>\n",
       "      <td id=\"T_0f87b_row17_col1\" class=\"data row17 col1\" >/tmp/fablib</td>\n",
       "    </tr>\n",
       "    <tr>\n",
       "      <td id=\"T_0f87b_row18_col0\" class=\"data row18 col0\" >Project Name</td>\n",
       "      <td id=\"T_0f87b_row18_col1\" class=\"data row18 col1\" >FABRIC Clemson EDU</td>\n",
       "    </tr>\n",
       "  </tbody>\n",
       "</table>\n"
      ],
      "text/plain": [
       "<pandas.io.formats.style.Styler at 0x7825d75dea90>"
      ]
     },
     "metadata": {},
     "output_type": "display_data"
    }
   ],
   "source": [
    "# Import Fablib\n",
    "from fabrictestbed_extensions.fablib.fablib import FablibManager as fablib_manager\n",
    "fablib = fablib_manager()\n",
    "fablib.show_config()\n",
    "import json\n",
    "import traceback"
   ]
  },
  {
   "cell_type": "markdown",
   "id": "d4aea340-132e-41be-b063-9114aa4d196b",
   "metadata": {
    "tags": []
   },
   "source": [
    "### 1.2 Set up the Experiment Network\n",
    "The network configuration part of this slice will connect the nodes with specific IPs such that the nodes are able to communicate with each other. The slice will use the network name to find the corresponding devices (NIC cards) used in the slice creation so that we can provide the correct connections in the network, in this case, \"Lan1\" and \"Lan2\".\n",
    "\n",
    "This slice contains 2 subnetworks in IPv4: 10.1.1.0/24 (between client1 and the server, \"Lan1\") & 11.1.1.0/24 (between client2 and the server, \"Lan2\"). This slice will provide IP 10.1.1.2 and 11.1.1.2 following the guidelines set by the network subnet. It will connect 10.1.1.2 to the card connected to client1, and 11.1.1.2 to client2.\n",
    "\n",
    "After providing the IPs to the corresponding devices, the cell will verify that all interfaces are up and execute \"ip a\" to output the connections that are active. Then, we will add the additional routes so that the nodes are aware of the active connections using the route command."
   ]
  },
  {
   "cell_type": "code",
   "execution_count": null,
   "id": "bb8a709b-eae4-42b6-8405-d20bef7d69c8",
   "metadata": {},
   "outputs": [],
   "source": [
    "# Setup Network\n",
    "from ipaddress import ip_address, IPv4Address, IPv6Address, IPv4Network, IPv6Network\n",
    "\n",
    "try:    \n",
    "    client1 = slice.get_node(name=\"client1\") \n",
    "    client2 = slice.get_node(name=\"client2\")\n",
    "    client3 = slice.get_node(name=\"client3\")\n",
    "    router1 = slice.get_node(name=\"router1\") \n",
    "    router2 = slice.get_node(name=\"router2\")\n",
    "    router3 = slice.get_node(name=\"router3\")\n",
    "    server = slice.get_node(name=\"server\")\n",
    "    \n",
    "    subnet1 = IPv4Network(\"10.1.1.0/24\")\n",
    "    subnet2 = IPv4Network(\"11.1.1.0/24\")\n",
    "    subnet3 = IPv4Network(\"12.1.1.0/24\")\n",
    "    subnet4 = IPv4Network(\"13.1.1.0/24\") # ISP subnet\n",
    "\n",
    "    # Client 1 connections\n",
    "    client1_iface = client1.get_interface(network_name=\"Lan1\")\n",
    "    client1_iface.ip_addr_add(addr=\"10.1.1.1\", subnet=subnet1)\n",
    "\n",
    "    router1_iface = router1.get_interface(network_name=\"Lan1\")\n",
    "    router1_iface.ip_addr_add(addr=\"10.1.1.2\", subnet=subnet1)\n",
    "\n",
    "    router1_iface2 = router1.get_interface(network_name=\"Lan4\")\n",
    "    router1_iface2.ip_addr_add(addr=\"13.1.1.2\", subnet=subnet4)\n",
    "    \n",
    "    server_iface = server.get_interface(network_name=\"Lan4\")\n",
    "    server_iface.ip_addr_add(addr=\"13.1.1.1\", subnet=subnet4)\n",
    "\n",
    "    # Cient 2 connections\n",
    "    client2_iface = client2.get_interface(network_name=\"Lan2\")\n",
    "    client2_iface.ip_addr_add(addr=\"11.1.1.1\", subnet=subnet2)\n",
    "\n",
    "    router2_iface = router2.get_interface(network_name=\"Lan2\")\n",
    "    router2_iface.ip_addr_add(addr=\"11.1.1.2\", subnet=subnet2)\n",
    "\n",
    "    router2_iface2 = router2.get_interface(network_name=\"Lan4\")\n",
    "    router2_iface2.ip_addr_add(addr=\"13.1.1.4\", subnet=subnet4)\n",
    "    \n",
    "    server_iface2 = server.get_interface(network_name=\"Lan4\")\n",
    "    server_iface2.ip_addr_add(addr=\"13.1.1.3\", subnet=subnet4)\n",
    "\n",
    "    # Client 3 Connections\n",
    "    client3_iface = client3.get_interface(network_name=\"Lan3\")\n",
    "    client3_iface.ip_addr_add(addr=\"12.1.1.1\", subnet=subnet3)\n",
    "\n",
    "    router3_iface = router3.get_interface(network_name=\"Lan3\")\n",
    "    router3_iface.ip_addr_add(addr=\"12.1.1.2\", subnet=subnet3)\n",
    "\n",
    "    router3_iface2 = router3.get_interface(network_name=\"Lan4\")\n",
    "    router3_iface2.ip_addr_add(addr=\"13.1.1.6\", subnet=subnet4)\n",
    "    \n",
    "    server_iface3 = server.get_interface(network_name=\"Lan4\")\n",
    "    server_iface3.ip_addr_add(addr=\"13.1.1.5\", subnet=subnet4)\n",
    "    \n",
    "    #turn on interfaces\n",
    "    for node in slice.get_nodes():\n",
    "        for interface in node.get_interfaces():\n",
    "            stdout, stderr = node.execute(f'sudo ip link set dev { interface.get_device_name()} up')\n",
    "        print(f\"Network status at node {node.get_name()}\")\n",
    "        node.execute(\"ip a\")\n",
    "    \n",
    "except Exception as e:\n",
    "    print(f\"Exception: {e}\")\n"
   ]
  },
  {
   "cell_type": "markdown",
   "id": "ac6b88e4-8bcd-4242-8484-0eeec02f0fbf",
   "metadata": {
    "tags": []
   },
   "source": [
    "### 1.3 Configure the software needed for the nodes in the experiment\n",
    "In this section of the slice creation, we will add any additional software, tools or scripts that we need for our experiments. For this slice we only need to install \"iperf\", we provide the software by running node.execute() and letting the node know to download the software."
   ]
  },
  {
   "cell_type": "code",
   "execution_count": null,
   "id": "9400565c-2193-4333-86d2-c574cff78c70",
   "metadata": {
    "scrolled": true,
    "tags": []
   },
   "outputs": [],
   "source": [
    "# Install Software\n",
    "for node in slice.get_nodes():\n",
    "    node.execute(\"sudo apt update;sudo apt -y install iperf;sudo apt -y install net-tools;sudo apt -y install iperf3; sudo apt -y install ffmpeg; sudo snap install yt-dlp\")"
   ]
  },
  {
   "cell_type": "markdown",
   "id": "68980901-c47d-4966-9b48-424a99f133bd",
   "metadata": {
    "tags": []
   },
   "source": [
    "### 1.4 Set up the IP routes and IP forwarding for the subnets\n",
    "In this section of the slice creation, we add the IP routing & forwarding necessary for the subnets to communicate. Add a way for clients to communicate back to the server, and a way for the server to communicate to the clients (Both through the routers) \n",
    "\n",
    "Keep in mind the output of 1.2 for setting up Port Forwarding & for later testing with iperf. enp7s0 & enp8s0 tend to flip between which is used for input from server and output to client. Uncomment/Comment on \"Allow forwarding through routers\" based on 1.2 Output."
   ]
  },
  {
   "cell_type": "code",
   "execution_count": null,
   "id": "f718b037-d628-4a95-bc50-dfb976d30966",
   "metadata": {},
   "outputs": [],
   "source": [
    "#Handle IP routes & IP forwarding\n",
    "client1.execute(\"sudo ip route add 13.1.1.0/24 via 10.1.1.2\")\n",
    "client2.execute(\"sudo ip route add 13.1.1.0/24 via 11.1.1.2\") \n",
    "client3.execute(\"sudo ip route add 13.1.1.0/24 via 12.1.1.2\") \n",
    "\n",
    "#server.execute(\"sudo sysctl -w net.ipv4.ip_forward=1\")\n",
    "server.execute(\"sudo ip route add 10.1.1.0/24 via 13.1.1.2\")\n",
    "server.execute(\"sudo ip route add 11.1.1.0/24 via 13.1.1.4\")\n",
    "server.execute(\"sudo ip route add 12.1.1.0/24 via 13.1.1.6\") \n",
    "\n",
    "router1.execute(\"sudo sysctl -w net.ipv4.ip_forward=1\") \n",
    "router2.execute(\"sudo sysctl -w net.ipv4.ip_forward=1\")\n",
    "router3.execute(\"sudo sysctl -w net.ipv4.ip_forward=1\")  \n",
    "\n",
    "#Allow forwarding through routers \n",
    "\n",
    "router1.execute(\"sudo iptables -A FORWARD -i enp7s0 -o enp8s0 -j ACCEPT\") \n",
    "#router1.execute(\"sudo iptables -A FORWARD -i enp8s0 -o enp7s0 -j ACCEPT\")\n",
    " \n",
    "#router2.execute(\"sudo iptables -A FORWARD -i enp7s0 -o enp8s0 -j ACCEPT\") \n",
    "router2.execute(\"sudo iptables -A FORWARD -i enp8s0 -o enp7s0 -j ACCEPT\")\n",
    "\n",
    "#router3.execute(\"sudo iptables -A FORWARD -i enp7s0 -o enp8s0 -j ACCEPT\") \n",
    "router3.execute(\"sudo iptables -A FORWARD -i enp8s0 -o enp7s0 -j ACCEPT\") \n",
    "\n",
    "#Install caca on clients \n",
    "client1.execute(\"sudo apt install ffmpeg libcaca0\") \n",
    "client2.execute(\"sudo apt install ffmpeg libcaca0\") \n",
    "client3.execute(\"sudo apt install ffmpeg libcaca0\")  "
   ]
  },
  {
   "cell_type": "markdown",
   "id": "2cf3e76c-eed3-4040-8a9d-3ef8290ee241",
   "metadata": {
    "tags": []
   },
   "source": [
    "## Continue to The experiment notebook\n",
    "\n",
    "Once You have completed this notebook you should be able to continue."
   ]
  },
  {
   "cell_type": "code",
   "execution_count": null,
   "id": "9bbd7de2-2085-4aa5-aef6-efa990f45783",
   "metadata": {},
   "outputs": [],
   "source": []
  }
 ],
 "metadata": {
  "kernelspec": {
   "display_name": "Python 3 (ipykernel)",
   "language": "python",
   "name": "python3"
  },
  "language_info": {
   "codemirror_mode": {
    "name": "ipython",
    "version": 3
   },
   "file_extension": ".py",
   "mimetype": "text/x-python",
   "name": "python",
   "nbconvert_exporter": "python",
   "pygments_lexer": "ipython3",
   "version": "3.11.9"
  }
 },
 "nbformat": 4,
 "nbformat_minor": 5
}
